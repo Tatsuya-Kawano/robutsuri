{
 "cells": [
  {
   "cell_type": "markdown",
   "metadata": {},
   "source": [
    "### 必須文法・構文\n",
    "\n",
    "Python の文法は非常にシンプルだ。また、構文（スコープ）がインデントにより決定されるという点が特徴で、この部分は賛否両論があるのだが、なれてしまえばそれほど気にはならない。インデントと上手く付き合うためには、「Python モード」があるエディタを活用する方が良いだろう。\n",
    "\n",
    "#### 変数・演算\n",
    "\n",
    "これといって特徴はなく、他の言語と同様に扱える。ただし、インクリメント・デクリメント演算子(++, --) は存在しないので C++使いの人は要注意だ。"
   ]
  },
  {
   "cell_type": "code",
   "execution_count": null,
   "metadata": {},
   "outputs": [],
   "source": [
    "hoge = 10\n",
    "page = ( hoge + 1 ) / 2.0  # 11/2.0 = 10.5\n",
    "page += hoge   # 10.5 + 10"
   ]
  },
  {
   "cell_type": "code",
   "execution_count": null,
   "metadata": {},
   "outputs": [],
   "source": [
    "print(hoge, page)"
   ]
  },
  {
   "cell_type": "markdown",
   "metadata": {},
   "source": [
    "#### リスト・辞書・タプル\n",
    "\n",
    "Pythonでは、配列は リスト (list)で、ハッシュは辞書(dic) という型で実現している。タプル(Tuple)はPython独自の型で、値の変更が不可能なリストと理解すれば良い。リストはブラケット(bracket)、辞書はブレース({})、タプルは括弧(())にて表記する。リストやタプルについては、一部を切り出す「スライシング (slicing)」が可能であり、上手く使うと実装が劇的に簡単になる場合がある。"
   ]
  },
  {
   "cell_type": "code",
   "execution_count": null,
   "metadata": {},
   "outputs": [],
   "source": [
    "the_list = [1,2,3,4,5,6]\n",
    "\n",
    "the_first  = the_list[0]     # 1\n",
    "the_last   = the_list[4]     # 5\n",
    "the_last2  = the_list[-1]    # 6\n",
    "the_slice  = the_list[1:4]   # [2,3,4] \n",
    "the_slice2 = the_list[1:4:2] # [2,4]"
   ]
  },
  {
   "cell_type": "code",
   "execution_count": null,
   "metadata": {},
   "outputs": [],
   "source": [
    "print(the_first)\n",
    "print(the_last)\n",
    "print(the_last2)\n",
    "print(the_slice)\n",
    "print(the_slice2)"
   ]
  },
  {
   "cell_type": "code",
   "execution_count": null,
   "metadata": {},
   "outputs": [],
   "source": [
    "the_dic = {'hoge':1, 'page':2, 'hogepage':3}\n",
    "\n",
    "hoge = the_dic['hoge']           # 1\n",
    "the_keys = list(the_dic.keys())  # ['hoge', 'page', 'hogepage']"
   ]
  },
  {
   "cell_type": "code",
   "execution_count": null,
   "metadata": {},
   "outputs": [],
   "source": [
    "print(hoge)\n",
    "print(the_keys)"
   ]
  },
  {
   "cell_type": "code",
   "execution_count": null,
   "metadata": {},
   "outputs": [],
   "source": [
    "the_tuple = (1,2,3)\n",
    "the_first = the_tuple[0]     # 1\n",
    "the_slice = the_tuple[0:2]   # (1,2)"
   ]
  },
  {
   "cell_type": "code",
   "execution_count": null,
   "metadata": {},
   "outputs": [],
   "source": [
    "print(the_tuple)\n",
    "print(the_first)\n",
    "print(the_slice)"
   ]
  },
  {
   "cell_type": "markdown",
   "metadata": {},
   "source": [
    "#### 判断\n",
    "\n",
    "if文の最後のコロン(:)を忘れないようにすること。また、if文の条件部分には括弧は不要である。（括弧をつけても文法上問題はないが、使わないのがPython流）　なお、「後置if」はないのが Rubyist には残念だが、Python のポリシーから考えると仕方がないところだ。"
   ]
  },
  {
   "cell_type": "code",
   "execution_count": null,
   "metadata": {},
   "outputs": [],
   "source": [
    "if hoge == page:   # hoge == 10.0,  page == 15.5\n",
    "    print(\"hoge is the same as page!\")\n",
    "elif hoge > page:\n",
    "    print(\"hoge is greater than page!\")\n",
    "else:\n",
    "    print(\"hoge is smaller than page!\")"
   ]
  },
  {
   "cell_type": "markdown",
   "metadata": {},
   "source": [
    "#### 繰り返し\n",
    "\n",
    "繰り返しには For構文とWhile構文を知っていたら十分だろう。\n"
   ]
  },
  {
   "cell_type": "code",
   "execution_count": null,
   "metadata": {},
   "outputs": [],
   "source": [
    "the_list = [1,2,3,4,5,6]\n",
    "for i in the_list:\n",
    "    print(i)\n",
    "\n",
    "total = 0\n",
    "idx = 1\n",
    "while idx < 5:    # done when idx in [1,2,3,4]\n",
    "    total += the_list[idx]\n",
    "    idx += 1\n",
    "print(idx,total)  # 5, 14 == 2+3+4+5"
   ]
  },
  {
   "cell_type": "code",
   "execution_count": null,
   "metadata": {},
   "outputs": [],
   "source": [
    "while True:\n",
    "    if total > 20:\n",
    "        break     # 直近のループを抜け出す\n",
    "    print(total)\n",
    "    total += 1"
   ]
  },
  {
   "cell_type": "markdown",
   "metadata": {},
   "source": [
    "#### 関数定義\n",
    "\n",
    "関数定義も簡単である。名前付き引数(named parameter)や省略値を用いることができるので便利だ。また、戻り値にリスト、タプル、オブジェクトを用いることで、複雑な戻り値を返すことができる。関数の役割は与えられた引数に対する関数値を返すことである。よってそれ以外の効果を「副作用(side effect)」と呼ぶ。例えば、画面に値を表示したり、データベースに記録したりするなどがある。副作用といっても、決して悪影響を及ぼすことを意味するのではない。"
   ]
  },
  {
   "cell_type": "code",
   "execution_count": null,
   "metadata": {},
   "outputs": [],
   "source": [
    "def die_risk (weight, food, drink=\"coke\"):\n",
    "    factor = 1.0\n",
    "    if food == \"salad\":\n",
    "        factor = 0.5\n",
    "    elif food == \"pizza\":\n",
    "        factor = 1.5\n",
    "\n",
    "    if drink==\"coke\":\n",
    "        factor *= 2.0\n",
    "\n",
    "    the_risk = (weight-50) * factor\n",
    "    print(\"Die risk: \", the_risk)   # 副作用 (side effect)\n",
    "\n",
    "    return the_risk\n",
    "\n",
    "\n",
    "die_risk(60, \"salada\", \"water\") \n",
    "die_risk(food=\"pizza\", weight=70)\n",
    "die_risk(food=\"humberger\", drink=\"coke\", weight=100)"
   ]
  },
  {
   "cell_type": "markdown",
   "metadata": {},
   "source": [
    "#### モジュール\n",
    "他のプログラムから再利用できるようにしたファイルのことを「モジュール」という。\n",
    "\n",
    "モジュールには、自分でPythonを用いて作成する「通常モジュール」、あらかじめ装備されている「組み込みモジュール」、C言語など他の言語で開発された「拡張モジュール」に分類される。モジュールをパッケージとしてまとめ、「外部ライブラリ」として公開されているので、どんなライブラリがあってどのように使えるのかを知っているかどうかで効率が劇的に変わる。欲しいライブラリは、大抵の場合、既に誰かによって開発されている。車輪の再発明を行わないためにも、事前に入念な調査が必要だ。\n",
    "\n",
    "モジュールの読み込みは import 文を用いて行う。\n"
   ]
  },
  {
   "cell_type": "code",
   "execution_count": null,
   "metadata": {},
   "outputs": [],
   "source": [
    "import random      # 乱数に関する組み込みモジュール\n",
    "from math import sin, cos   # math モジュールから sin, cos 関数を使う\n",
    "\n",
    "print(random.random())    # 0.9065161930701089\n",
    "print(sin(0), cos(0))     # (0.0, 1.0)"
   ]
  },
  {
   "cell_type": "markdown",
   "metadata": {},
   "source": [
    "#### クラス定義\n",
    "\n",
    "Python におけるクラスの定義は、他の言語とよく似ており、特に難しいところは無いだろう。メソッドの定義において、第一引数が自分自身を現すselfとなる点に注意。(C++のthisに相当） なお、コンストラクタメソッドは \\_\\_init\\_\\_ である。 内部変数にアクセスする場合には、かならず self が必要なので注意が必要だ。\n"
   ]
  },
  {
   "cell_type": "code",
   "execution_count": null,
   "metadata": {},
   "outputs": [],
   "source": [
    "import random\n",
    "\n",
    "class Worker:\n",
    "\n",
    "    def __init__(self, initial_energy=10):\n",
    "        self.energy = initial_energy\n",
    "\n",
    "    def eat(self, the_energy):\n",
    "        print(\"Got energy {:.1f}\".format(the_energy))\n",
    "        self.energy += the_energy\n",
    "\n",
    "    def sleep(self, duration):\n",
    "        print(\"Seeep {:.1f} hours\".format(duration))\n",
    "        self.energy += 5.0 * duration\n",
    "\n",
    "    def work(self, duration):\n",
    "        print(\"Work  {:.1f} hours\".format(duration))\n",
    "        self.energy -= 10.0 * duration\n",
    "\n",
    "    def get_energy(self):\n",
    "        return self.energy\n",
    "\n",
    "    def is_alive(self):\n",
    "        if self.energy > 0:\n",
    "            return True\n",
    "        else:\n",
    "            return False\n"
   ]
  },
  {
   "cell_type": "code",
   "execution_count": null,
   "metadata": {},
   "outputs": [],
   "source": [
    "guy = Worker()\n",
    "\n",
    "ENERGY_UNIT = 10\n",
    "SLEEP_UNIT = 8\n",
    "WORK_UNIT  = 8\n",
    "\n",
    "while True:\n",
    "    feed_energy = random.random() * ENERGY_UNIT\n",
    "    guy.eat(feed_energy)\n",
    "\n",
    "    sleep_duration = random.random() * SLEEP_UNIT\n",
    "    guy.sleep(sleep_duration)\n",
    "\n",
    "    work_duration = random.random() * WORK_UNIT\n",
    "    guy.work(work_duration)\n",
    "\n",
    "    if guy.is_alive():\n",
    "        print(\"   Still Alive: {:.2f}\".format(guy.get_energy()))\n",
    "    else:\n",
    "        print(\"   DEAD: {:.2f}\".format(guy.get_energy()) )\n",
    "        break"
   ]
  }
 ],
 "metadata": {
  "kernelspec": {
   "display_name": "Python 3",
   "language": "python",
   "name": "python3"
  },
  "language_info": {
   "codemirror_mode": {
    "name": "ipython",
    "version": 3
   },
   "file_extension": ".py",
   "mimetype": "text/x-python",
   "name": "python",
   "nbconvert_exporter": "python",
   "pygments_lexer": "ipython3",
   "version": "3.6.4"
  }
 },
 "nbformat": 4,
 "nbformat_minor": 2
}
