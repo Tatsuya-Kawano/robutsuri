{
 "cells": [
  {
   "cell_type": "code",
   "execution_count": null,
   "metadata": {},
   "outputs": [],
   "source": [
    "import sys\n",
    "\n",
    "sys.path.append('lib')\n",
    "from calculation_manager import CalculationManager\n",
    "from cross_section import CrossSection\n",
    "\n",
    "xs = CrossSection()\n",
    "xs.set([[1.58, 0.02, 0.0, 1.0],[0.271, 0.0930, 0.168, 0.0]])\n",
    "xs.set_smat( [[0.0, 0.0178], [0.0, 0.0]])\n",
    "xs.calc_sigr()\n",
    "\n",
    "delta = 1.0\n",
    "albedo = -1.0\n",
    "geom = [{'xs':xs, 'width':100}]\n",
    "\n",
    "config = { 'geometry':geom, 'mesh_width':delta, \"albedo\": albedo}\n",
    "        \n",
    "calc_man = CalculationManager(config)\n",
    "ret = calc_man.run()\n",
    "\n",
    "keff = calc_man.get_keff()\n",
    "\n",
    "print (\"ret = \", ret, \" ,keff = \", keff)\n"
   ]
  },
  {
   "cell_type": "code",
   "execution_count": null,
   "metadata": {},
   "outputs": [],
   "source": [
    "flux_dist_0 = calc_man.controller.cont.get_flux_dist(0)\n",
    "flux_dist_1 = calc_man.controller.cont.get_flux_dist(1)"
   ]
  },
  {
   "cell_type": "code",
   "execution_count": null,
   "metadata": {},
   "outputs": [],
   "source": [
    "flux_dist_0"
   ]
  },
  {
   "cell_type": "code",
   "execution_count": null,
   "metadata": {},
   "outputs": [],
   "source": [
    "%matplotlib notebook\n",
    "import matplotlib.pyplot as plt"
   ]
  },
  {
   "cell_type": "code",
   "execution_count": null,
   "metadata": {},
   "outputs": [],
   "source": [
    "fig = plt.figure()\n",
    "ax = fig.add_subplot(111)\n",
    "ax.plot(flux_dist_0[0], flux_dist_0[1])\n",
    "ax.plot(flux_dist_1[0], flux_dist_1[1])\n",
    "plt.show()"
   ]
  },
  {
   "cell_type": "code",
   "execution_count": null,
   "metadata": {},
   "outputs": [],
   "source": [
    "config = { 'geometry':geom, 'mesh_width':0.1, \"albedo\": albedo}\n",
    "calc_man = CalculationManager(config)\n",
    "ret = calc_man.run()\n",
    "\n",
    "keff = calc_man.get_keff()\n",
    "\n",
    "print (\"ret = \", ret, \" ,keff = \", keff)\n",
    "flux_dist_0 = calc_man.controller.cont.get_flux_dist(0)\n",
    "flux_dist_1 = calc_man.controller.cont.get_flux_dist(1)\n",
    "fig = plt.figure()\n",
    "ax = fig.add_subplot(111)\n",
    "ax.plot(flux_dist_0[0], flux_dist_0[1])\n",
    "ax.plot(flux_dist_1[0], flux_dist_1[1])\n",
    "plt.show()"
   ]
  },
  {
   "cell_type": "code",
   "execution_count": null,
   "metadata": {},
   "outputs": [],
   "source": []
  }
 ],
 "metadata": {
  "kernelspec": {
   "display_name": "Python 3",
   "language": "python",
   "name": "python3"
  },
  "language_info": {
   "codemirror_mode": {
    "name": "ipython",
    "version": 3
   },
   "file_extension": ".py",
   "mimetype": "text/x-python",
   "name": "python",
   "nbconvert_exporter": "python",
   "pygments_lexer": "ipython3",
   "version": "3.6.4"
  }
 },
 "nbformat": 4,
 "nbformat_minor": 2
}
