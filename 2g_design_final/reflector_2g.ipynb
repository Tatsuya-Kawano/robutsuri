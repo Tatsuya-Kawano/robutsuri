{
 "cells": [
  {
   "cell_type": "code",
   "execution_count": null,
   "metadata": {},
   "outputs": [],
   "source": [
    "import sys\n",
    "\n",
    "sys.path.append('lib')\n",
    "from calculation_manager import CalculationManager\n",
    "from cross_section import CrossSection\n",
    "\n",
    "xs_fuel = CrossSection()\n",
    "xs_fuel.set([[1.58, 0.0032, 0.0, 1.0],[0.271, 0.0930, 0.168, 0.0]])\n",
    "xs_fuel.set_smat( [[0.0, 0.0178], [0.0, 0.0]])\n",
    "xs_fuel.calc_sigr()\n",
    "\n",
    "xs_ref = CrossSection()\n",
    "xs_ref.set([[1.41, 0.0, 0.0, 1.0],[0.117, 0.0191, 0.0, 0.0]])\n",
    "xs_ref.set_smat( [[0.0, 0.0476], [0.0, 0.0]])\n",
    "xs_ref.calc_sigr()\n",
    "\n",
    "geom = [{'xs':xs_ref, 'width':30}, {'xs':xs_fuel, 'width':60}, {'xs':xs_ref, 'width':30} ]\n",
    "\n",
    "\n",
    "delta = 1.0\n",
    "albedo = -1.0\n",
    "\n",
    "config = { 'geometry':geom, 'mesh_width':delta, \"albedo\": albedo}\n",
    "        \n",
    "calc_man = CalculationManager(config)\n",
    "ret = calc_man.run()\n",
    "\n",
    "keff = calc_man.get_keff()\n",
    "\n",
    "print (\"ret = \", ret, \", keff = \", keff)"
   ]
  },
  {
   "cell_type": "code",
   "execution_count": null,
   "metadata": {},
   "outputs": [],
   "source": [
    "flux_dist_0 = calc_man.controller.cont.get_flux_dist(0)\n",
    "flux_dist_1 = calc_man.controller.cont.get_flux_dist(1)"
   ]
  },
  {
   "cell_type": "code",
   "execution_count": null,
   "metadata": {},
   "outputs": [],
   "source": [
    "flux_dist_0"
   ]
  },
  {
   "cell_type": "code",
   "execution_count": null,
   "metadata": {},
   "outputs": [],
   "source": [
    "%matplotlib notebook\n",
    "import matplotlib.pyplot as plt"
   ]
  },
  {
   "cell_type": "code",
   "execution_count": null,
   "metadata": {},
   "outputs": [],
   "source": [
    "fig = plt.figure()\n",
    "ax = fig.add_subplot(111)\n",
    "ax.plot(flux_dist_0[0], flux_dist_0[1], label=\"Fast\")\n",
    "ax.plot(flux_dist_1[0], flux_dist_1[1], label=\"Thermal\")\n",
    "ax.plot([30,30],[0,1], linewidth=1.0, color=\"k\", linestyle=\"dashed\", label=\"Core\")\n",
    "ax.plot([90,90],[0,1], linewidth=1.0, color=\"k\", linestyle=\"dashed\")\n",
    "ax.legend()\n",
    "plt.show()"
   ]
  }
 ],
 "metadata": {
  "kernelspec": {
   "display_name": "Python 3",
   "language": "python",
   "name": "python3"
  },
  "language_info": {
   "codemirror_mode": {
    "name": "ipython",
    "version": 3
   },
   "file_extension": ".py",
   "mimetype": "text/x-python",
   "name": "python",
   "nbconvert_exporter": "python",
   "pygments_lexer": "ipython3",
   "version": "3.6.4"
  }
 },
 "nbformat": 4,
 "nbformat_minor": 2
}
