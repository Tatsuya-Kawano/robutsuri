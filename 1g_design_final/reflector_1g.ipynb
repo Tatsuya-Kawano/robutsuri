{
 "cells": [
  {
   "cell_type": "code",
   "execution_count": null,
   "metadata": {},
   "outputs": [],
   "source": [
    "import sys\n",
    "\n",
    "sys.path.append('lib')\n",
    "from calculation_manager import CalculationManager\n",
    "from cross_section import CrossSection\n",
    "\n",
    "xs_fuel = CrossSection([1.36, 0.0181, 0.0279])\n",
    "delta = 1.0\n",
    "albedo = -1.0\n",
    "\n",
    "xs_fuel = CrossSection([1.36, 0.0181, 0.0279])\n",
    "xs_ref  = CrossSection([0.55, 0.0127, 0.0])\n",
    "geom = [{'xs':xs_ref, 'width':30}, {'xs':xs_fuel, 'width':60}, {'xs':xs_ref, 'width':30} ]\n",
    "\n",
    "config = { 'geometry':geom, 'mesh_width':delta, \"albedo\": albedo}\n",
    "        \n",
    "calc_man = CalculationManager(config)\n",
    "calc_man.run()\n",
    "\n",
    "keff = calc_man.get_keff()\n",
    "\n",
    "print (\"keff = \", keff)"
   ]
  },
  {
   "cell_type": "code",
   "execution_count": null,
   "metadata": {},
   "outputs": [],
   "source": [
    "flux_dist = calc_man.controller.container.get_flux_dist()"
   ]
  },
  {
   "cell_type": "code",
   "execution_count": null,
   "metadata": {},
   "outputs": [],
   "source": [
    "flux_dist"
   ]
  },
  {
   "cell_type": "code",
   "execution_count": null,
   "metadata": {},
   "outputs": [],
   "source": [
    "%matplotlib notebook\n",
    "import matplotlib.pyplot as plt"
   ]
  },
  {
   "cell_type": "code",
   "execution_count": null,
   "metadata": {},
   "outputs": [],
   "source": [
    "fig = plt.figure()\n",
    "ax = fig.add_subplot(111)\n",
    "ax.plot(flux_dist[0], flux_dist[1])\n",
    "plt.show()"
   ]
  }
 ],
 "metadata": {
  "kernelspec": {
   "display_name": "Python 3",
   "language": "python",
   "name": "python3"
  },
  "language_info": {
   "codemirror_mode": {
    "name": "ipython",
    "version": 3
   },
   "file_extension": ".py",
   "mimetype": "text/x-python",
   "name": "python",
   "nbconvert_exporter": "python",
   "pygments_lexer": "ipython3",
   "version": "3.6.4"
  }
 },
 "nbformat": 4,
 "nbformat_minor": 2
}
