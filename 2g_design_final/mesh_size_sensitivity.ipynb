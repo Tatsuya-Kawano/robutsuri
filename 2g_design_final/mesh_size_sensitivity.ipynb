{
 "cells": [
  {
   "cell_type": "code",
   "execution_count": null,
   "metadata": {},
   "outputs": [],
   "source": [
    "import sys\n",
    "\n",
    "sys.path.append('lib')\n",
    "from calculation_manager import CalculationManager\n",
    "from cross_section import CrossSection\n",
    "\n",
    "xs = CrossSection()\n",
    "xs.set([[1.58, 0.02, 0.0, 1.0],[0.271, 0.0930, 0.168, 0.0]])\n",
    "xs.set_smat( [[0.0, 0.0178], [0.0, 0.0]])\n",
    "xs.calc_sigr()\n",
    "\n",
    "delta = 1.0\n",
    "albedo = -1.0\n",
    "geom = [{'xs':xs, 'width':100}]\n",
    "\n",
    "config = { 'geometry':geom, 'mesh_width':delta, \"albedo\": albedo}\n",
    "        \n",
    "calc_man = CalculationManager(config)\n",
    "ret = calc_man.run()\n",
    "\n",
    "keff = calc_man.get_keff()\n",
    "\n",
    "print (\"ret = \", ret, \", keff = \", keff)"
   ]
  },
  {
   "cell_type": "code",
   "execution_count": null,
   "metadata": {},
   "outputs": [],
   "source": [
    "import math\n",
    "\n",
    "b2 = (math.pi / geom[0]['width'])**2\n",
    "\n",
    "kana_nume = (xs.sigr(1) + xs.dif(1)*b2)*xs.nusigf(0) + xs.sigs(0,1)*xs.nusigf(1)\n",
    "kana_deno = (xs.dif(0)*b2 + xs.sigr(0) ) * (xs.dif(1)*b2 + xs.sigr(1))\n",
    "kana = kana_nume / kana_deno\n",
    "print(\"kana=\", kana)"
   ]
  },
  {
   "cell_type": "code",
   "execution_count": null,
   "metadata": {},
   "outputs": [],
   "source": [
    "%matplotlib inline\n",
    "import matplotlib.pyplot as plt\n",
    "keffs = []\n",
    "widths = [10, 8, 6, 4, 2, 1, 0.5, 0.25, 0.1]\n",
    "for delta in widths:\n",
    "    config = { 'geometry':geom, 'mesh_width':delta, \"albedo\": albedo}\n",
    "    calc_man = CalculationManager(config)\n",
    "    ret = calc_man.run()\n",
    "    keff = calc_man.get_keff()\n",
    "    print (\"width = \", delta, \", ret = \", ret, \", keff = \", keff)\n",
    "    keffs.append(keff)\n",
    "    \n",
    "    flux_dist_0 = calc_man.controller.cont.get_flux_dist(0)\n",
    "    flux_dist_1 = calc_man.controller.cont.get_flux_dist(1)\n",
    "    \n",
    "    fig = plt.figure()\n",
    "    ax = fig.add_subplot(111)\n",
    "    ax.plot(flux_dist_0[0], flux_dist_0[1])\n",
    "    ax.plot(flux_dist_1[0], flux_dist_1[1])\n",
    "    plt.show()\n",
    "    "
   ]
  },
  {
   "cell_type": "code",
   "execution_count": null,
   "metadata": {},
   "outputs": [],
   "source": [
    "fig = plt.figure()\n",
    "ax = fig.add_subplot(111)\n",
    "ax.plot(widths, keffs)\n",
    "plt.show()\n",
    "   "
   ]
  },
  {
   "cell_type": "code",
   "execution_count": null,
   "metadata": {},
   "outputs": [],
   "source": [
    "widths2 = list(map(lambda x: x*x, widths))"
   ]
  },
  {
   "cell_type": "code",
   "execution_count": null,
   "metadata": {},
   "outputs": [],
   "source": [
    "widths2"
   ]
  },
  {
   "cell_type": "code",
   "execution_count": null,
   "metadata": {},
   "outputs": [],
   "source": [
    "diffs = list(map(lambda x: (x-kana)/kana*100.0, keffs))"
   ]
  },
  {
   "cell_type": "code",
   "execution_count": null,
   "metadata": {},
   "outputs": [],
   "source": [
    "fig = plt.figure()\n",
    "ax = fig.add_subplot(111)\n",
    "ax.plot(widths2, keffs)\n",
    "plt.show()\n",
    "   "
   ]
  },
  {
   "cell_type": "code",
   "execution_count": null,
   "metadata": {},
   "outputs": [],
   "source": [
    "fig = plt.figure()\n",
    "ax = fig.add_subplot(111)\n",
    "ax.plot(widths2[-4:-1], diffs[-4:-1])\n",
    "plt.show()"
   ]
  },
  {
   "cell_type": "code",
   "execution_count": null,
   "metadata": {},
   "outputs": [],
   "source": []
  }
 ],
 "metadata": {
  "kernelspec": {
   "display_name": "Python 3",
   "language": "python",
   "name": "python3"
  },
  "language_info": {
   "codemirror_mode": {
    "name": "ipython",
    "version": 3
   },
   "file_extension": ".py",
   "mimetype": "text/x-python",
   "name": "python",
   "nbconvert_exporter": "python",
   "pygments_lexer": "ipython3",
   "version": "3.6.4"
  }
 },
 "nbformat": 4,
 "nbformat_minor": 2
}
